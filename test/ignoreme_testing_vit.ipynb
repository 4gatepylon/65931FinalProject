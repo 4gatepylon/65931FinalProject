{
 "cells": [
  {
   "cell_type": "code",
   "execution_count": null,
   "metadata": {
    "vscode": {
     "languageId": "plaintext"
    }
   },
   "outputs": [],
   "source": [
    "import torch\n",
    "import sys\n",
    "from pathlib import Path\n",
    "print(Path.cwd())\n",
    "parent = Path.cwd().parent.resolve().as_posix()\n",
    "print(parent)\n",
    "sys.path.append(parent)\n",
    "print(sys.path)"
   ]
  }
 ],
 "metadata": {
  "language_info": {
   "name": "python"
  }
 },
 "nbformat": 4,
 "nbformat_minor": 2
}
