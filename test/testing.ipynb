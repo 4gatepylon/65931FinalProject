{
 "cells": [
  {
   "cell_type": "code",
   "execution_count": 1,
   "metadata": {},
   "outputs": [
    {
     "name": "stdout",
     "output_type": "stream",
     "text": [
      "/Users/4gate/git/65931FinalProject/test\n",
      "/Users/4gate/git/65931FinalProject\n",
      "['/opt/miniconda3/envs/spring-2025-65931/lib/python311.zip', '/opt/miniconda3/envs/spring-2025-65931/lib/python3.11', '/opt/miniconda3/envs/spring-2025-65931/lib/python3.11/lib-dynload', '', '/opt/miniconda3/envs/spring-2025-65931/lib/python3.11/site-packages', '/Users/4gate/git/65931FinalProject']\n",
      "Weights are:  tensor([1., 1., 1., 1.])\n",
      "Vector is:  tensor([1., 1., 1., 1.])\n",
      "Overwriting input quantization bitwidth, from 8 to 8\n",
      "Overwriting weight quantization bitwidth, from 8 to 8\n",
      "Overwriting output ADC quantization bitwidth, from 10 to 10\n",
      "Dot product is:  tensor(5.) tensor(5.) tensor(5.)\n"
     ]
    }
   ],
   "source": [
    "import torch\n",
    "import sys\n",
    "from pathlib import Path\n",
    "print(Path.cwd())\n",
    "parent = Path.cwd().parent.resolve().as_posix()\n",
    "print(parent)\n",
    "sys.path.append(parent)\n",
    "print(sys.path)\n",
    "\n",
    "# Our imports\n",
    "from src.kernels import OpticalDotProduct, OpticalDotProductConfiguration\n",
    "\n",
    "# The test\n",
    "weights = torch.ones(4)\n",
    "print(\"Weights are: \", weights)\n",
    "vector = torch.ones(4)\n",
    "vector2 = torch.ones(4)\n",
    "vector3 = torch.ones(4)\n",
    "print(\"Vector is: \", vector)\n",
    "dotter = OpticalDotProduct(\n",
    "    weights,\n",
    "    cfg=OpticalDotProductConfiguration(),\n",
    "    input_quantization_bitwidth=8,\n",
    "    weight_quantization_bitwidth=8,\n",
    "    output_adc_quantization_bitwidth=10\n",
    ")\n",
    "dot = dotter(vector)\n",
    "dot2 = dotter(vector2)\n",
    "dot3 = dotter(vector3)\n",
    "print(\"Dot product is: \", dot, dot2, dot3)\n"
   ]
  },
  {
   "cell_type": "code",
   "execution_count": 2,
   "metadata": {},
   "outputs": [],
   "source": [
    "# import pydantic_yaml\n",
    "# default_cfg_path = Path.cwd().parent.resolve() / \"config\" / \"default.yaml\"\n",
    "# pydantic_yaml.to_yaml_file(default_cfg_path.as_posix(), dotter.get_active_configuration())\n",
    "dotter.get_active_configuration().save(\"asdf\")\n",
    "asdf = OpticalDotProductConfiguration.from_config_name(\"asdf\")\n",
    "assert asdf == dotter.get_active_configuration()\n",
    "asdf_path = Path.cwd().parent.resolve() / \"config\" / \"asdf.yaml\"\n",
    "asdf_path.unlink() # delete this file"
   ]
  },
  {
   "cell_type": "code",
   "execution_count": 3,
   "metadata": {},
   "outputs": [],
   "source": [
    "# import pydantic_yaml\n",
    "# default_cfg_path = Path.cwd().parent.resolve() / \"config\" / \"default.yaml\"\n",
    "# copy = pydantic_yaml.parse_yaml_raw_as(OpticalDotProductConfiguration, default_cfg_path.read_text())"
   ]
  },
  {
   "cell_type": "code",
   "execution_count": 4,
   "metadata": {},
   "outputs": [
    {
     "data": {
      "text/plain": [
       "tensor(4.)"
      ]
     },
     "execution_count": 4,
     "metadata": {},
     "output_type": "execute_result"
    }
   ],
   "source": [
    "zero_noise = OpticalDotProductConfiguration.from_config_name(\"zero_noise_high_precision\")\n",
    "optical_dot_product = OpticalDotProduct(weights=weights, cfg=zero_noise)\n",
    "optical_dot_product.forward(vector) # should be 4.0 yay!"
   ]
  },
  {
   "cell_type": "code",
   "execution_count": null,
   "metadata": {},
   "outputs": [],
   "source": []
  }
 ],
 "metadata": {
  "kernelspec": {
   "display_name": "spring-2025-65931",
   "language": "python",
   "name": "python3"
  },
  "language_info": {
   "codemirror_mode": {
    "name": "ipython",
    "version": 3
   },
   "file_extension": ".py",
   "mimetype": "text/x-python",
   "name": "python",
   "nbconvert_exporter": "python",
   "pygments_lexer": "ipython3",
   "version": "3.11.11"
  }
 },
 "nbformat": 4,
 "nbformat_minor": 2
}
