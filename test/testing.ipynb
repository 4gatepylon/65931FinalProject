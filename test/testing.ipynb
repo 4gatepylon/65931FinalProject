{
 "cells": [
  {
   "cell_type": "code",
   "execution_count": 1,
   "metadata": {},
   "outputs": [
    {
     "name": "stdout",
     "output_type": "stream",
     "text": [
      "['/opt/miniconda3/envs/spring-2025-65931/lib/python311.zip', '/opt/miniconda3/envs/spring-2025-65931/lib/python3.11', '/opt/miniconda3/envs/spring-2025-65931/lib/python3.11/lib-dynload', '', '/opt/miniconda3/envs/spring-2025-65931/lib/python3.11/site-packages', '/Users/4gate/git/65931FinalProject']\n",
      "Weights are:  tensor([1., 1., 1., 1.])\n",
      "Vector is:  tensor([1., 1., 1., 1.])\n",
      "Dot product is:  tensor(5.) tensor(5.) tensor(5.)\n"
     ]
    }
   ],
   "source": [
    "import torch\n",
    "import sys\n",
    "from pathlib import Path\n",
    "sys.path.append(Path.cwd().parent.resolve().as_posix())\n",
    "print(sys.path)\n",
    "\n",
    "# Our imports\n",
    "from src.kernels import OpticalDotProduct, OpticalDotProductConfiguration\n",
    "\n",
    "# The test\n",
    "weights = torch.ones(4)\n",
    "print(\"Weights are: \", weights)\n",
    "vector = torch.ones(4)\n",
    "vector2 = torch.ones(4)\n",
    "vector3 = torch.ones(4)\n",
    "print(\"Vector is: \", vector)\n",
    "dotter = OpticalDotProduct(weights, configuration=OpticalDotProductConfiguration()) # Use a default\n",
    "dot = dotter(vector)\n",
    "dot2 = dotter(vector2)\n",
    "dot3 = dotter(vector3)\n",
    "print(\"Dot product is: \", dot, dot2, dot3)\n"
   ]
  },
  {
   "cell_type": "code",
   "execution_count": null,
   "metadata": {},
   "outputs": [],
   "source": []
  }
 ],
 "metadata": {
  "kernelspec": {
   "display_name": "spring-2025-65931",
   "language": "python",
   "name": "python3"
  },
  "language_info": {
   "codemirror_mode": {
    "name": "ipython",
    "version": 3
   },
   "file_extension": ".py",
   "mimetype": "text/x-python",
   "name": "python",
   "nbconvert_exporter": "python",
   "pygments_lexer": "ipython3",
   "version": "3.11.11"
  }
 },
 "nbformat": 4,
 "nbformat_minor": 2
}
