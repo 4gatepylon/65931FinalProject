{
  "cells": [
    {
      "cell_type": "markdown",
      "metadata": {
        "id": "al7VxlS3h0SO"
      },
      "source": [
        "# Hardware For ML Class Project"
      ]
    },
    {
      "cell_type": "markdown",
      "metadata": {
        "id": "nQeCrhHvDqMy"
      },
      "source": [
        "# Modeling Albiero\n",
        "To model Albiero, we divide the dot product kernel into several steps:\n",
        "- Input Conversion:\n",
        "    - Handles conversion from DE -> AE -> AO.\n",
        "    - Accounts for the losses/noises that occur along the way.\n",
        "- Weight Conversion:\n",
        "    - Handlers conversion from DE -> AE.\n",
        "    - Accounts for normalization to [-1, 1].\n",
        "- The Dot Product itself.\n",
        "    - Performs the AE/AO dot product.\n",
        "    - Handles the conversion from AO to AE in the PD.\n",
        "- The Output conversion.\n",
        "    - Handles conversion from AE to quantized DE.\n",
        "\n",
        "\n",
        "I don't know if this is the level of expected detail, but it's a good start to actually understand what the accelerator is doing.\n",
        "\n",
        "\n",
        "There are many things I am very unsure about.\n",
        "I have left them as `TODO(Ask)` in the code. We should ask about them in office hours.\n",
        "Feel to modify the code or add your own questions.\n",
        "\n",
        "Once we have clarified these points, we can just turn these classes into pytorch operations, and run the DNNs."
      ]
    },
    {
      "cell_type": "markdown",
      "metadata": {
        "id": "I6f9ka50Vkua"
      },
      "source": [
        "# Outline of Clarifications to Ask\n",
        "## General Questions\n",
        "1. Level of Detail:\n",
        "    - It seems impossible to capture the noise without a semi-detailed step by step computation.\n",
        "    - Is this an overkill? What's the alternative? Looks like the proposal above seems basically good to go.\n",
        "2. Parameter Values:\n",
        "    - The paper does not specify all the values (e.g., feedback resistance at the PD, or crosstalk noise in PLCU MRRs)\n",
        "        - Do you know where to find them? TBD.\n",
        "        - Or can they be derived from the provided ones (e.g., MRR crosstalk from $k^2$ and FSR)? Look below for cross-talk for specifics.\n",
        "        - Or can we assume some 'ideal' default (e.g., the feedback resistance that would allow loss-less computation). Yes we can assume the ideal to begin with.\n",
        "3. Losses:\n",
        "    - In addition to noise, there are also losses.\n",
        "    - Do we ignore them, or do we take them into account? Answer: we should ignore them and we can justify this by mentioning that the losses are predictable. If the losses are not predictable then maybe we should model them.\n",
        "4. Cross-talk?\n",
        "    - Cross talk seems input dependent, meaning that the amount of noise depends on surrounding values (meaning receptive fields that are multiplexed in the same waveguide).\n",
        "    - Should we derive cross-talk for micro-ring resonator? Answer: We should try and if not we might not do it. Cross-talk is important.\n",
        "5. Do we assume constants or make something parameterized? Yes. Do not just hard-code.\n",
        "    \n",
        "\n",
        "## Specific Questions\n",
        "### Input Conversion\n",
        "- I understand that quantized inputs are turned into voltages.\n",
        "    - With what precision? In what range? Just assume some sort of ideal if it's very much not defined from the paper (i.e. just don't model it).\n",
        "    - Like [0, 1.0]?\n",
        "- The voltage is then turned into an optical signal, after being multiplied by a 'gain' in (W/V).\n",
        "    - I can't find this value.\n",
        "    - I can assume defaults that match the output deconversion?\n",
        "- AWG (Arrayed Waveguide Grating) Crosstalk.\n",
        "    - This is given as a fixed value in the paper.\n",
        "    - Can we assume it?\n",
        "    - Isn't crosstalk input-dependent.\n",
        "\n",
        "### Weight Conversion\n",
        "- The paper expects weights to be in [-1, 1]. So I assume we have to manually scale down, then scale back up right?\n",
        "- What the weights become voltages, can we assume a perfect conversion?\n",
        "    - E.g., if the weight is $0.378934373$, the voltage can exactly match that.\n",
        "\n",
        "### Optical Dot Product\n",
        "- How to compute MRR cross-talk?\n",
        "    - We are given $k^2$ (cross-coupling factor) and FSR (free spectral range).\n",
        "    - It should input-dependent?\n",
        "- How to capture RIN (relative intensity noise)?\n",
        "    - The units we are given are decibels relative to the carrier per hertz (dBc/Hz)?\n",
        "        - The bandwidth (frequency?) is later given as 5GHz.\n",
        "- How to get the \"feedback resistance\"?\n",
        "    - Allows converting current to voltage.\n",
        "\n",
        "### Output Conversion\n",
        "- How do we map voltage back to integers.\n",
        "- Like:\n",
        "    - Can we assume some uniform mapping, from (V_min -> 0) and (V_max -> int_max).\n",
        "    - Are V_min and V_max fixed parameters, or do change input by input?\n",
        "        - I.e., does 1V always correspond to the same integer, is it relative to other voltage values in the output.\n",
        "- Same question about voltage precision.\n",
        "    - Can we assume perfect voltage precision, or is something lost."
      ]
    },
    {
      "cell_type": "code",
      "execution_count": 1,
      "metadata": {
        "id": "TskEih9wj_PO"
      },
      "outputs": [],
      "source": [
        "import torch\n",
        "import typing as t\n",
        "import math\n",
        "import numpy as np\n",
        "from kernels import * \n",
        "from configurations import *"
      ]
    },
    {
      "cell_type": "code",
      "execution_count": 2,
      "metadata": {},
      "outputs": [
        {
          "name": "stdout",
          "output_type": "stream",
          "text": [
            "tensor([-121.,  134.,   71.,    8., -184.,  -77.,   80., -233., -197.])\n",
            "tensor([ 1.0000,  0.3976,  0.7766, -0.4723, -0.4684, -0.7250, -0.0781,  0.4879,\n",
            "        -0.9299])\n",
            "Reference result:  tensor(188.9058)\n",
            "Final output:  tensor([191.8824])\n"
          ]
        }
      ],
      "source": [
        "# Regular dot product.\n",
        "seed = 47\n",
        "torch.manual_seed(seed)\n",
        "np.random.seed(seed)\n",
        "input_tensor = torch.randint(-256, 256, (9,), dtype=torch.float)\n",
        "print(input_tensor)\n",
        "weight_tensor = (torch.rand((9,), dtype=torch.float) - 0.5) * 2\n",
        "weight_tensor[0] = 1 # For max to be 1\n",
        "print(weight_tensor)\n",
        "\n",
        "reference_result = torch.dot(input_tensor, weight_tensor)\n",
        "\n",
        "optical_dot_product = OpticalDotProduct(\n",
        "    weight_tensor,\n",
        "    OpticalDotProductConfiguration()\n",
        ")\n",
        "print(\"Reference result: \", reference_result)\n",
        "\n",
        "seed = torch.seed()&(2**32-1)\n",
        "torch.manual_seed(seed)\n",
        "np.random.seed(seed)\n",
        "print(\"Final output: \", optical_dot_product(input_tensor.unsqueeze(0)))"
      ]
    },
    {
      "cell_type": "code",
      "execution_count": 3,
      "metadata": {},
      "outputs": [
        {
          "name": "stdout",
          "output_type": "stream",
          "text": [
            "tensor([[[[  0.0000, 144.8416,   0.0000, 965.1462],\n",
            "          [666.1784,   0.0000,   0.0000,   0.0000],\n",
            "          [114.2020,   0.0000,   0.0000, 198.2287],\n",
            "          [809.1243, 563.7757,   0.0000,   0.0000]],\n",
            "\n",
            "         [[514.6777,   0.0000,   0.0000,   0.0000],\n",
            "          [  0.0000,   0.0000,   0.0000, 361.2850],\n",
            "          [  0.0000, 813.6025, 526.9926, 219.1966],\n",
            "          [431.0192, 711.9022,   0.0000, 130.8217]],\n",
            "\n",
            "         [[  0.0000,   0.0000,   0.0000, 275.7301],\n",
            "          [  0.0000,   0.0000,   0.0000, 575.6881],\n",
            "          [951.6908,   0.0000,   0.0000, 209.7674],\n",
            "          [  0.0000, 173.7381, 656.3438,   0.0000]]]])\n",
            "////\n",
            "tensor([[[[ -230.5566,   143.5056,   -10.7081,   963.3527],\n",
            "          [  669.2916,  -105.9818,  -370.3961,  -377.7442],\n",
            "          [  118.3592,  -697.9106,  -249.2348,   196.6060],\n",
            "          [  806.9269,   567.2969, -1379.0011,  -147.4970]],\n",
            "\n",
            "         [[  515.2217,  -358.3289,  -654.0438,  -157.8391],\n",
            "          [ -464.2213,   -46.5723,   -82.6758,   359.7042],\n",
            "          [-1236.7380,   815.7487,   527.3722,   221.5101],\n",
            "          [  433.2635,   711.7037,  -621.6844,   132.7389]],\n",
            "\n",
            "         [[-1015.5151,  -748.4599,  -404.3637,   280.3274],\n",
            "          [ -285.8485,  -323.4568,  -926.4164,   571.8141],\n",
            "          [  947.8864,   -59.7338,  -469.2978,   214.0440],\n",
            "          [ -546.3681,   177.5412,   655.7097,  -683.7446]]]])\n"
          ]
        }
      ],
      "source": [
        "# Regular convolution.\n",
        "#seed = 49\n",
        "#torch.manual_seed(seed)\n",
        "#np.random.seed(seed)\n",
        "input_tensor = torch.randint(-256, 256, (1,5,9,9), dtype=torch.float)\n",
        "weight_tensor = (torch.rand((3,5,3,3), dtype=torch.float) - 0.5) * 2\n",
        "\n",
        "\n",
        "#print(input_tensor)\n",
        "#print(weight_tensor)\n",
        "\n",
        "conv = OpticalConvolution(weight_tensor, OpticalDotProductConfiguration(), None, stride=2)\n",
        "print(conv(input_tensor))\n",
        "print(\"////\")\n",
        "print(F.conv2d(input_tensor, weight_tensor, stride=2))"
      ]
    },
    {
      "cell_type": "code",
      "execution_count": 4,
      "metadata": {},
      "outputs": [
        {
          "name": "stdout",
          "output_type": "stream",
          "text": [
            "tensor([[  0.0000, 257.7657,   0.0000],\n",
            "        [ 19.3190, 134.0108,   0.0000]])\n",
            "////\n",
            "tensor([[-106.6283,  261.6004, -311.6936],\n",
            "        [  17.1410,  132.3020,  -62.2177]], grad_fn=<AddmmBackward0>)\n"
          ]
        }
      ],
      "source": [
        "#seed = 48\n",
        "torch.manual_seed(seed)\n",
        "np.random.seed(seed)\n",
        "\n",
        "\n",
        "batch_size=2\n",
        "N=16\n",
        "O=3\n",
        "input_tensor = torch.randint(-256, 256, (batch_size, N), dtype=torch.float)\n",
        "weight_tensor = (torch.rand((O, N), dtype=torch.float) - 0.5) * 2\n",
        "bias_tensor = (torch.rand((O,), dtype=torch.float) - 0.5) * 2\n",
        "\n",
        "# PyTorch FCC\n",
        "linear = torch.nn.Linear(N, O)\n",
        "linear.weight.data = weight_tensor.clone()\n",
        "linear.bias.data = bias_tensor.clone()\n",
        "\n",
        "fc = OpticalFC(weight_tensor, bias_tensor, OpticalDotProductConfiguration())\n",
        "print(fc(input_tensor))\n",
        "print(\"////\")\n",
        "print(linear(input_tensor))  "
      ]
    }
  ],
  "metadata": {
    "colab": {
      "provenance": []
    },
    "kernelspec": {
      "display_name": "Python 3",
      "language": "python",
      "name": "python3"
    },
    "language_info": {
      "codemirror_mode": {
        "name": "ipython",
        "version": 3
      },
      "file_extension": ".py",
      "mimetype": "text/x-python",
      "name": "python",
      "nbconvert_exporter": "python",
      "pygments_lexer": "ipython3",
      "version": "3.11.2"
    }
  },
  "nbformat": 4,
  "nbformat_minor": 0
}
