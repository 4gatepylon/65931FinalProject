{
  "cells": [
    {
      "cell_type": "markdown",
      "metadata": {
        "id": "al7VxlS3h0SO"
      },
      "source": [
        "# Hardware For ML Class Project"
      ]
    },
    {
      "cell_type": "markdown",
      "metadata": {
        "id": "nQeCrhHvDqMy"
      },
      "source": [
        "# Modeling Albiero\n",
        "To model Albiero, we divide the dot product kernel into several steps:\n",
        "- Input Conversion:\n",
        "    - Handles conversion from DE -> AE -> AO.\n",
        "    - Accounts for the losses/noises that occur along the way.\n",
        "- Weight Conversion:\n",
        "    - Handlers conversion from DE -> AE.\n",
        "    - Accounts for normalization to [-1, 1].\n",
        "- The Dot Product itself.\n",
        "    - Performs the AE/AO dot product.\n",
        "    - Handles the conversion from AO to AE in the PD.\n",
        "- The Output conversion.\n",
        "    - Handles conversion from AE to quantized DE.\n",
        "\n",
        "\n",
        "I don't know if this is the level of expected detail, but it's a good start to actually understand what the accelerator is doing.\n",
        "\n",
        "\n",
        "There are many things I am very unsure about.\n",
        "I have left them as `TODO(Ask)` in the code. We should ask about them in office hours.\n",
        "Feel to modify the code or add your own questions.\n",
        "\n",
        "Once we have clarified these points, we can just turn these classes into pytorch operations, and run the DNNs."
      ]
    },
    {
      "cell_type": "markdown",
      "metadata": {
        "id": "I6f9ka50Vkua"
      },
      "source": [
        "# Outline of Clarifications to Ask\n",
        "## General Questions\n",
        "1. Level of Detail:\n",
        "    - It seems impossible to capture the noise without a semi-detailed step by step computation.\n",
        "    - Is this an overkill? What's the alternative? Looks like the proposal above seems basically good to go.\n",
        "2. Parameter Values:\n",
        "    - The paper does not specify all the values (e.g., feedback resistance at the PD, or crosstalk noise in PLCU MRRs)\n",
        "        - Do you know where to find them? TBD.\n",
        "        - Or can they be derived from the provided ones (e.g., MRR crosstalk from $k^2$ and FSR)? Look below for cross-talk for specifics.\n",
        "        - Or can we assume some 'ideal' default (e.g., the feedback resistance that would allow loss-less computation). Yes we can assume the ideal to begin with.\n",
        "3. Losses:\n",
        "    - In addition to noise, there are also losses.\n",
        "    - Do we ignore them, or do we take them into account? Answer: we should ignore them and we can justify this by mentioning that the losses are predictable. If the losses are not predictable then maybe we should model them.\n",
        "4. Cross-talk?\n",
        "    - Cross talk seems input dependent, meaning that the amount of noise depends on surrounding values (meaning receptive fields that are multiplexed in the same waveguide).\n",
        "    - Should we derive cross-talk for micro-ring resonator? Answer: We should try and if not we might not do it. Cross-talk is important.\n",
        "5. Do we assume constants or make something parameterized? Yes. Do not just hard-code.\n",
        "    \n",
        "\n",
        "## Specific Questions\n",
        "### Input Conversion\n",
        "- I understand that quantized inputs are turned into voltages.\n",
        "    - With what precision? In what range? Just assume some sort of ideal if it's very much not defined from the paper (i.e. just don't model it).\n",
        "    - Like [0, 1.0]?\n",
        "- The voltage is then turned into an optical signal, after being multiplied by a 'gain' in (W/V).\n",
        "    - I can't find this value.\n",
        "    - I can assume defaults that match the output deconversion?\n",
        "- AWG (Arrayed Waveguide Grating) Crosstalk.\n",
        "    - This is given as a fixed value in the paper.\n",
        "    - Can we assume it?\n",
        "    - Isn't crosstalk input-dependent.\n",
        "\n",
        "### Weight Conversion\n",
        "- The paper expects weights to be in [-1, 1]. So I assume we have to manually scale down, then scale back up right?\n",
        "- What the weights become voltages, can we assume a perfect conversion?\n",
        "    - E.g., if the weight is $0.378934373$, the voltage can exactly match that.\n",
        "\n",
        "### Optical Dot Product\n",
        "- How to compute MRR cross-talk?\n",
        "    - We are given $k^2$ (cross-coupling factor) and FSR (free spectral range).\n",
        "    - It should input-dependent?\n",
        "- How to capture RIN (relative intensity noise)?\n",
        "    - The units we are given are decibels relative to the carrier per hertz (dBc/Hz)?\n",
        "        - The bandwidth (frequency?) is later given as 5GHz.\n",
        "- How to get the \"feedback resistance\"?\n",
        "    - Allows converting current to voltage.\n",
        "\n",
        "### Output Conversion\n",
        "- How do we map voltage back to integers.\n",
        "- Like:\n",
        "    - Can we assume some uniform mapping, from (V_min -> 0) and (V_max -> int_max).\n",
        "    - Are V_min and V_max fixed parameters, or do change input by input?\n",
        "        - I.e., does 1V always correspond to the same integer, is it relative to other voltage values in the output.\n",
        "- Same question about voltage precision.\n",
        "    - Can we assume perfect voltage precision, or is something lost."
      ]
    },
    {
      "cell_type": "code",
      "execution_count": 5,
      "metadata": {
        "id": "TskEih9wj_PO"
      },
      "outputs": [],
      "source": [
        "import torch\n",
        "import typing as t\n",
        "import math\n",
        "import numpy as np\n",
        "from kernels import * \n",
        "from configurations import *"
      ]
    },
    {
      "cell_type": "code",
      "execution_count": 6,
      "metadata": {},
      "outputs": [
        {
          "name": "stdout",
          "output_type": "stream",
          "text": [
            "tensor([-121.,  134.,   71.,    8., -184.,  -77.,   80., -233., -197.])\n",
            "tensor([ 1.0000,  0.3976,  0.7766, -0.4723, -0.4684, -0.7250, -0.0781,  0.4879,\n",
            "        -0.9299])\n",
            "Reference result:  tensor(188.9058)\n",
            "Final output:  tensor([183.5520])\n"
          ]
        }
      ],
      "source": [
        "# Regular dot product.\n",
        "seed = 47\n",
        "torch.manual_seed(seed)\n",
        "np.random.seed(seed)\n",
        "input_tensor = torch.randint(-256, 256, (9,), dtype=torch.float)\n",
        "print(input_tensor)\n",
        "weight_tensor = (torch.rand((9,), dtype=torch.float) - 0.5) * 2\n",
        "weight_tensor[0] = 1 # For max to be 1\n",
        "print(weight_tensor)\n",
        "\n",
        "reference_result = torch.dot(input_tensor, weight_tensor)\n",
        "\n",
        "optical_dot_product = OpticalDotProduct(\n",
        "    weight_tensor,\n",
        "    OpticalDotProductConfiguration()\n",
        ")\n",
        "print(\"Reference result: \", reference_result)\n",
        "\n",
        "seed = torch.seed()&(2**32-1)\n",
        "torch.manual_seed(seed)\n",
        "np.random.seed(seed)\n",
        "print(\"Final output: \", optical_dot_product(input_tensor.unsqueeze(0)))"
      ]
    },
    {
      "cell_type": "code",
      "execution_count": null,
      "metadata": {},
      "outputs": [
        {
          "name": "stdout",
          "output_type": "stream",
          "text": [
            "tensor([[[[-1245.4497,   429.4654,  -338.5504,  -960.0631],\n",
            "          [  128.8396,   -41.7343,  -515.1854,  -189.1033],\n",
            "          [  285.1558,  -232.7426,   945.5167,   -71.2890],\n",
            "          [ -441.5875,  -420.1719,   171.7862,   -71.2890]],\n",
            "\n",
            "         [[ -815.6381,  -344.0973,  -655.2032,  -440.2966],\n",
            "          [ -101.9548,   222.9233,  -196.5610,  -336.6974],\n",
            "          [ -710.8055,   440.2966,   -90.6493,    63.4648],\n",
            "          [ -786.2438,   -64.4926,   395.0747,   317.3239]],\n",
            "\n",
            "         [[  450.3967,   495.4364,  -339.6136,   167.8091],\n",
            "          [  -75.0661,   393.9155,   879.9081,  -625.4703],\n",
            "          [  104.6688,   -30.5107,   442.4058,  -403.7225],\n",
            "          [  987.9670,  -182.3380,   945.8331,  -224.2903]]]])\n",
            "////\n",
            "tensor([[[[-1244.9874,   425.4202,  -345.0246,  -961.6853],\n",
            "          [  126.5863,   -44.8468,  -512.2371,  -196.1151],\n",
            "          [  289.2228,  -226.2661,   950.3021,   -75.5144],\n",
            "          [ -444.5012,  -422.5677,   177.6381,   -73.9420]],\n",
            "\n",
            "         [[ -807.4063,  -344.7952,  -650.8029,  -432.2201],\n",
            "          [  -98.1172,   227.0089,  -197.8444,  -336.7520],\n",
            "          [ -707.3732,   435.7037,   -95.3877,    67.9382],\n",
            "          [ -782.0336,   -69.8232,   398.2023,   313.4974]],\n",
            "\n",
            "         [[  444.3858,   490.4592,  -339.0330,   171.2528],\n",
            "          [  -72.2507,   388.0780,   885.2622,  -630.0157],\n",
            "          [  111.8735,   -24.2164,   439.9257,  -410.2020],\n",
            "          [  987.8584,  -189.9632,   955.5005,  -221.4590]]]])\n"
          ]
        }
      ],
      "source": [
        "# Regular convolution.\n",
        "seed = 49\n",
        "torch.manual_seed(seed)\n",
        "np.random.seed(seed)\n",
        "input_tensor = torch.randint(-256, 256, (1,5,9,9), dtype=torch.float)\n",
        "weight_tensor = (torch.rand((3,5,3,3), dtype=torch.float) - 0.5) * 2\n",
        "\n",
        "\n",
        "#print(input_tensor)\n",
        "#print(weight_tensor)\n",
        "\n",
        "conv = OpticalConvolution(weight_tensor, OpticalDotProductConfiguration(), None, stride=2)\n",
        "print(conv(input_tensor))\n",
        "print(\"////\")\n",
        "print(F.conv2d(input_tensor, weight_tensor, stride=2))"
      ]
    },
    {
      "cell_type": "code",
      "execution_count": 8,
      "metadata": {},
      "outputs": [
        {
          "name": "stdout",
          "output_type": "stream",
          "text": [
            "tensor([[ 420.3958,   27.9876, -336.2638],\n",
            "        [-338.3394, -774.1658,  303.9673]])\n",
            "////\n",
            "tensor([[ 425.6763,   32.5421, -331.9557],\n",
            "        [-344.6258, -778.3510,  305.1399]], grad_fn=<AddmmBackward0>)\n"
          ]
        }
      ],
      "source": [
        "#seed = 48\n",
        "torch.manual_seed(seed)\n",
        "np.random.seed(seed)\n",
        "\n",
        "\n",
        "batch_size=2\n",
        "N=16\n",
        "O=3\n",
        "input_tensor = torch.randint(-256, 256, (batch_size, N), dtype=torch.float)\n",
        "weight_tensor = (torch.rand((O, N), dtype=torch.float) - 0.5) * 2\n",
        "bias_tensor = (torch.rand((O,), dtype=torch.float) - 0.5) * 2\n",
        "\n",
        "# PyTorch FCC\n",
        "linear = torch.nn.Linear(N, O)\n",
        "linear.weight.data = weight_tensor.clone()\n",
        "linear.bias.data = bias_tensor.clone()\n",
        "\n",
        "fc = OpticalFC(weight_tensor, bias_tensor, OpticalDotProductConfiguration())\n",
        "print(fc(input_tensor))\n",
        "print(\"////\")\n",
        "print(linear(input_tensor))  "
      ]
    }
  ],
  "metadata": {
    "colab": {
      "provenance": []
    },
    "kernelspec": {
      "display_name": "Python 3",
      "language": "python",
      "name": "python3"
    },
    "language_info": {
      "codemirror_mode": {
        "name": "ipython",
        "version": 3
      },
      "file_extension": ".py",
      "mimetype": "text/x-python",
      "name": "python",
      "nbconvert_exporter": "python",
      "pygments_lexer": "ipython3",
      "version": "3.11.2"
    }
  },
  "nbformat": 4,
  "nbformat_minor": 0
}
